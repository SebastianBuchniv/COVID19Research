{
 "cells": [
  {
   "cell_type": "code",
   "execution_count": 1,
   "id": "d369f61b",
   "metadata": {
    "_cell_guid": "b1076dfc-b9ad-4769-8c92-a6c4dae69d19",
    "_uuid": "8f2839f25d086af736a60e9eeb907d3b93b6e0e5",
    "execution": {
     "iopub.execute_input": "2021-11-09T15:53:12.355617Z",
     "iopub.status.busy": "2021-11-09T15:53:12.354579Z",
     "iopub.status.idle": "2021-11-09T15:53:13.343278Z",
     "shell.execute_reply": "2021-11-09T15:53:13.342477Z",
     "shell.execute_reply.started": "2021-11-09T15:52:02.632330Z"
    },
    "papermill": {
     "duration": 1.011605,
     "end_time": "2021-11-09T15:53:13.343464",
     "exception": false,
     "start_time": "2021-11-09T15:53:12.331859",
     "status": "completed"
    },
    "tags": []
   },
   "outputs": [
    {
     "name": "stdout",
     "output_type": "stream",
     "text": [
      "/kaggle/input/deathscovid19andtemp/COVID19vsTemp.csv\n"
     ]
    }
   ],
   "source": [
    "import numpy as np # linear algebra\n",
    "import matplotlib.pyplot as plt # Mat Graphs\n",
    "import seaborn as sns # Other graphs\n",
    "import pandas as pd # data processing, CSV file I/O (e.g. pd.read_csv)\n",
    "import sklearn as sk #Modeling\n",
    "import os\n",
    "for dirname, _, filenames in os.walk('/kaggle/input'):\n",
    "    for filename in filenames:\n",
    "        print(os.path.join(dirname, filename))\n"
   ]
  },
  {
   "cell_type": "markdown",
   "id": "7818353d",
   "metadata": {
    "papermill": {
     "duration": 0.015388,
     "end_time": "2021-11-09T15:53:13.375292",
     "exception": false,
     "start_time": "2021-11-09T15:53:13.359904",
     "status": "completed"
    },
    "tags": []
   },
   "source": [
    "This dataset has informaton regarding Temperatures and Type of climates. The data is grouped by EEUU and Argentina States. The plan is to explore the data, and evaluate if there are any relationships between temperature, climate types, and incidence of elderly death by pneumonia and COVID19.\n"
   ]
  },
  {
   "cell_type": "markdown",
   "id": "05c196ab",
   "metadata": {
    "papermill": {
     "duration": 0.016376,
     "end_time": "2021-11-09T15:53:13.407013",
     "exception": false,
     "start_time": "2021-11-09T15:53:13.390637",
     "status": "completed"
    },
    "tags": []
   },
   "source": [
    "**The data dictionary of this dataset:**\n",
    "* StName: Is the name of the State.\n",
    "* AvgTemCelsius: Is the average temperature in celcius of the major cities of the state.\n",
    "* KoppenClimType: Is the climate Type of the major cities, using the koppen climate classification (https://en.wikipedia.org/wiki/K%C3%B6ppen_climate_classification)\n",
    "* DeathsPer100kHabs: Deaths produced by COVID19 per 100k habitants.\n",
    "* DeathsPer1k70plusHabs: Deaths produced by COVID19 per 1k habitants with age over 70.\n",
    "* Country: Country of the state\n",
    "\n",
    "**¿Why using Argentina and United States?**\n",
    "\n",
    "As you will see in the dataset, both countries have a wide range of climates and average temperatures that goes from 2C to 23C, and they have a decent COVID19 death data registration."
   ]
  },
  {
   "cell_type": "markdown",
   "id": "c628de03",
   "metadata": {
    "papermill": {
     "duration": 0.018531,
     "end_time": "2021-11-09T15:53:13.443273",
     "exception": false,
     "start_time": "2021-11-09T15:53:13.424742",
     "status": "completed"
    },
    "tags": []
   },
   "source": [
    "First of all, we will load the CSV, and see the structure of the data."
   ]
  },
  {
   "cell_type": "code",
   "execution_count": 2,
   "id": "8833821c",
   "metadata": {
    "execution": {
     "iopub.execute_input": "2021-11-09T15:53:13.489161Z",
     "iopub.status.busy": "2021-11-09T15:53:13.488160Z",
     "iopub.status.idle": "2021-11-09T15:53:13.518918Z",
     "shell.execute_reply": "2021-11-09T15:53:13.519591Z",
     "shell.execute_reply.started": "2021-11-09T15:52:03.556986Z"
    },
    "papermill": {
     "duration": 0.054432,
     "end_time": "2021-11-09T15:53:13.519780",
     "exception": false,
     "start_time": "2021-11-09T15:53:13.465348",
     "status": "completed"
    },
    "tags": []
   },
   "outputs": [
    {
     "data": {
      "text/html": [
       "<div>\n",
       "<style scoped>\n",
       "    .dataframe tbody tr th:only-of-type {\n",
       "        vertical-align: middle;\n",
       "    }\n",
       "\n",
       "    .dataframe tbody tr th {\n",
       "        vertical-align: top;\n",
       "    }\n",
       "\n",
       "    .dataframe thead th {\n",
       "        text-align: right;\n",
       "    }\n",
       "</style>\n",
       "<table border=\"1\" class=\"dataframe\">\n",
       "  <thead>\n",
       "    <tr style=\"text-align: right;\">\n",
       "      <th></th>\n",
       "      <th>StName</th>\n",
       "      <th>AvgTempCelsius</th>\n",
       "      <th>TotPop</th>\n",
       "      <th>KoppenClimType</th>\n",
       "      <th>DeathsPer100khabs</th>\n",
       "      <th>DeathsPer1k70plusHabs</th>\n",
       "      <th>Country</th>\n",
       "    </tr>\n",
       "  </thead>\n",
       "  <tbody>\n",
       "    <tr>\n",
       "      <th>0</th>\n",
       "      <td>Buenos Aires</td>\n",
       "      <td>17.0</td>\n",
       "      <td>17541141</td>\n",
       "      <td>cfa</td>\n",
       "      <td>375.66</td>\n",
       "      <td>31.9</td>\n",
       "      <td>Argentina</td>\n",
       "    </tr>\n",
       "    <tr>\n",
       "      <th>1</th>\n",
       "      <td>CABA</td>\n",
       "      <td>17.0</td>\n",
       "      <td>3075646</td>\n",
       "      <td>cfa</td>\n",
       "      <td>463.67</td>\n",
       "      <td>27.9</td>\n",
       "      <td>Argentina</td>\n",
       "    </tr>\n",
       "    <tr>\n",
       "      <th>2</th>\n",
       "      <td>Catamarca</td>\n",
       "      <td>16.0</td>\n",
       "      <td>415438</td>\n",
       "      <td>BWk</td>\n",
       "      <td>144.19</td>\n",
       "      <td>12.6</td>\n",
       "      <td>Argentina</td>\n",
       "    </tr>\n",
       "    <tr>\n",
       "      <th>3</th>\n",
       "      <td>Chaco</td>\n",
       "      <td>21.5</td>\n",
       "      <td>1204541</td>\n",
       "      <td>cfa</td>\n",
       "      <td>228.72</td>\n",
       "      <td>20.5</td>\n",
       "      <td>Argentina</td>\n",
       "    </tr>\n",
       "    <tr>\n",
       "      <th>4</th>\n",
       "      <td>Chubut</td>\n",
       "      <td>12.8</td>\n",
       "      <td>618994</td>\n",
       "      <td>BSk</td>\n",
       "      <td>257.35</td>\n",
       "      <td>35.3</td>\n",
       "      <td>Argentina</td>\n",
       "    </tr>\n",
       "  </tbody>\n",
       "</table>\n",
       "</div>"
      ],
      "text/plain": [
       "         StName  AvgTempCelsius    TotPop KoppenClimType  DeathsPer100khabs  \\\n",
       "0  Buenos Aires            17.0  17541141            cfa             375.66   \n",
       "1          CABA            17.0   3075646            cfa             463.67   \n",
       "2     Catamarca            16.0    415438            BWk             144.19   \n",
       "3         Chaco            21.5   1204541            cfa             228.72   \n",
       "4        Chubut            12.8    618994            BSk             257.35   \n",
       "\n",
       "   DeathsPer1k70plusHabs    Country  \n",
       "0                   31.9  Argentina  \n",
       "1                   27.9  Argentina  \n",
       "2                   12.6  Argentina  \n",
       "3                   20.5  Argentina  \n",
       "4                   35.3  Argentina  "
      ]
     },
     "execution_count": 2,
     "metadata": {},
     "output_type": "execute_result"
    }
   ],
   "source": [
    "df = pd.read_csv(\"../input/deathscovid19andtemp/COVID19vsTemp.csv\")\n",
    "df.head()"
   ]
  },
  {
   "cell_type": "code",
   "execution_count": 3,
   "id": "11fc7977",
   "metadata": {
    "execution": {
     "iopub.execute_input": "2021-11-09T15:53:13.564395Z",
     "iopub.status.busy": "2021-11-09T15:53:13.563602Z",
     "iopub.status.idle": "2021-11-09T15:53:13.591132Z",
     "shell.execute_reply": "2021-11-09T15:53:13.590506Z",
     "shell.execute_reply.started": "2021-11-09T15:52:03.593518Z"
    },
    "papermill": {
     "duration": 0.054227,
     "end_time": "2021-11-09T15:53:13.591299",
     "exception": false,
     "start_time": "2021-11-09T15:53:13.537072",
     "status": "completed"
    },
    "tags": []
   },
   "outputs": [
    {
     "data": {
      "text/html": [
       "<div>\n",
       "<style scoped>\n",
       "    .dataframe tbody tr th:only-of-type {\n",
       "        vertical-align: middle;\n",
       "    }\n",
       "\n",
       "    .dataframe tbody tr th {\n",
       "        vertical-align: top;\n",
       "    }\n",
       "\n",
       "    .dataframe thead th {\n",
       "        text-align: right;\n",
       "    }\n",
       "</style>\n",
       "<table border=\"1\" class=\"dataframe\">\n",
       "  <thead>\n",
       "    <tr style=\"text-align: right;\">\n",
       "      <th></th>\n",
       "      <th>AvgTempCelsius</th>\n",
       "      <th>TotPop</th>\n",
       "      <th>DeathsPer100khabs</th>\n",
       "      <th>DeathsPer1k70plusHabs</th>\n",
       "    </tr>\n",
       "  </thead>\n",
       "  <tbody>\n",
       "    <tr>\n",
       "      <th>count</th>\n",
       "      <td>75.000000</td>\n",
       "      <td>7.500000e+01</td>\n",
       "      <td>75.000000</td>\n",
       "      <td>75.000000</td>\n",
       "    </tr>\n",
       "    <tr>\n",
       "      <th>mean</th>\n",
       "      <td>14.253333</td>\n",
       "      <td>5.024347e+06</td>\n",
       "      <td>224.275600</td>\n",
       "      <td>56.144133</td>\n",
       "    </tr>\n",
       "    <tr>\n",
       "      <th>std</th>\n",
       "      <td>4.694083</td>\n",
       "      <td>6.746765e+06</td>\n",
       "      <td>77.191327</td>\n",
       "      <td>34.974980</td>\n",
       "    </tr>\n",
       "    <tr>\n",
       "      <th>min</th>\n",
       "      <td>2.000000</td>\n",
       "      <td>1.734320e+05</td>\n",
       "      <td>59.000000</td>\n",
       "      <td>6.120000</td>\n",
       "    </tr>\n",
       "    <tr>\n",
       "      <th>25%</th>\n",
       "      <td>10.800000</td>\n",
       "      <td>9.841305e+05</td>\n",
       "      <td>171.000000</td>\n",
       "      <td>27.400000</td>\n",
       "    </tr>\n",
       "    <tr>\n",
       "      <th>50%</th>\n",
       "      <td>14.400000</td>\n",
       "      <td>2.961279e+06</td>\n",
       "      <td>228.720000</td>\n",
       "      <td>55.930000</td>\n",
       "    </tr>\n",
       "    <tr>\n",
       "      <th>75%</th>\n",
       "      <td>17.200000</td>\n",
       "      <td>6.166068e+06</td>\n",
       "      <td>275.500000</td>\n",
       "      <td>77.905000</td>\n",
       "    </tr>\n",
       "    <tr>\n",
       "      <th>max</th>\n",
       "      <td>23.200000</td>\n",
       "      <td>3.953822e+07</td>\n",
       "      <td>463.670000</td>\n",
       "      <td>211.840000</td>\n",
       "    </tr>\n",
       "  </tbody>\n",
       "</table>\n",
       "</div>"
      ],
      "text/plain": [
       "       AvgTempCelsius        TotPop  DeathsPer100khabs  DeathsPer1k70plusHabs\n",
       "count       75.000000  7.500000e+01          75.000000              75.000000\n",
       "mean        14.253333  5.024347e+06         224.275600              56.144133\n",
       "std          4.694083  6.746765e+06          77.191327              34.974980\n",
       "min          2.000000  1.734320e+05          59.000000               6.120000\n",
       "25%         10.800000  9.841305e+05         171.000000              27.400000\n",
       "50%         14.400000  2.961279e+06         228.720000              55.930000\n",
       "75%         17.200000  6.166068e+06         275.500000              77.905000\n",
       "max         23.200000  3.953822e+07         463.670000             211.840000"
      ]
     },
     "execution_count": 3,
     "metadata": {},
     "output_type": "execute_result"
    }
   ],
   "source": [
    "#Lets see some info about the numeric data in the DataFrame\n",
    "df.describe()"
   ]
  },
  {
   "cell_type": "code",
   "execution_count": 4,
   "id": "b1e9b21f",
   "metadata": {
    "execution": {
     "iopub.execute_input": "2021-11-09T15:53:13.630299Z",
     "iopub.status.busy": "2021-11-09T15:53:13.629545Z",
     "iopub.status.idle": "2021-11-09T15:53:13.636099Z",
     "shell.execute_reply": "2021-11-09T15:53:13.636581Z",
     "shell.execute_reply.started": "2021-11-09T15:52:03.625625Z"
    },
    "papermill": {
     "duration": 0.027946,
     "end_time": "2021-11-09T15:53:13.636753",
     "exception": false,
     "start_time": "2021-11-09T15:53:13.608807",
     "status": "completed"
    },
    "tags": []
   },
   "outputs": [
    {
     "name": "stdout",
     "output_type": "stream",
     "text": [
      "['cfa' 'bwk' 'bsk' 'cfb' 'cwa' 'et' 'dfb' 'bwh' 'csa' 'dfa' 'af' 'csb'\n",
      " 'dsa']\n"
     ]
    }
   ],
   "source": [
    "#It would be intresting se the distribution and correlations between aspects of the dataset.\n",
    "#It's important first to encode the Koppen climate types, and other categorical values.\n",
    "#First lets see the cardinality of this column.\n",
    "df[\"KoppenClimType\"] = df[\"KoppenClimType\"].str.lower()\n",
    "print(df[\"KoppenClimType\"].unique())\n"
   ]
  },
  {
   "cell_type": "code",
   "execution_count": 5,
   "id": "ea2d195d",
   "metadata": {
    "execution": {
     "iopub.execute_input": "2021-11-09T15:53:13.673424Z",
     "iopub.status.busy": "2021-11-09T15:53:13.672425Z",
     "iopub.status.idle": "2021-11-09T15:53:13.709742Z",
     "shell.execute_reply": "2021-11-09T15:53:13.710173Z",
     "shell.execute_reply.started": "2021-11-09T15:52:03.632444Z"
    },
    "papermill": {
     "duration": 0.057523,
     "end_time": "2021-11-09T15:53:13.710380",
     "exception": false,
     "start_time": "2021-11-09T15:53:13.652857",
     "status": "completed"
    },
    "tags": []
   },
   "outputs": [
    {
     "name": "stdout",
     "output_type": "stream",
     "text": [
      "Ordinal encoded columns\n",
      "         StName  AvgTempCelsius    TotPop  KoppenClimType  DeathsPer100khabs  \\\n",
      "0  Buenos Aires            17.0  17541141             4.0             375.66   \n",
      "1          CABA            17.0   3075646             4.0             463.67   \n",
      "2     Catamarca            16.0    415438             3.0             144.19   \n",
      "3         Chaco            21.5   1204541             4.0             228.72   \n",
      "4        Chubut            12.8    618994             1.0             257.35   \n",
      "\n",
      "   DeathsPer1k70plusHabs    Country  \n",
      "0                   31.9  Argentina  \n",
      "1                   27.9  Argentina  \n",
      "2                   12.6  Argentina  \n",
      "3                   20.5  Argentina  \n",
      "4                   35.3  Argentina  \n"
     ]
    }
   ],
   "source": [
    "#First of all, lets see the pure correlations between variables. \n",
    "#To do this, we will Ordinal Encode the KoppenClimType column only\n",
    "\n",
    "from sklearn.preprocessing import OrdinalEncoder\n",
    "from sklearn.preprocessing import OneHotEncoder\n",
    "OHC = OneHotEncoder(handle_unknown='ignore', sparse=False)\n",
    "ORD = OrdinalEncoder()\n",
    "Cols_names = df.columns\n",
    "\n",
    "Corr_Ordinal_Columns= [\"KoppenClimType\"]\n",
    "CorrDF = df\n",
    "\n",
    "CorrDF[Corr_Ordinal_Columns] = pd.DataFrame(ORD.fit_transform(df[Corr_Ordinal_Columns]))\n",
    "print(\"Ordinal encoded columns\")\n",
    "CorrDF.columns = Cols_names\n",
    "print(CorrDF.head())\n"
   ]
  },
  {
   "cell_type": "code",
   "execution_count": 6,
   "id": "24f10739",
   "metadata": {
    "execution": {
     "iopub.execute_input": "2021-11-09T15:53:13.746607Z",
     "iopub.status.busy": "2021-11-09T15:53:13.745891Z",
     "iopub.status.idle": "2021-11-09T15:53:14.180506Z",
     "shell.execute_reply": "2021-11-09T15:53:14.181045Z",
     "shell.execute_reply.started": "2021-11-09T15:52:03.676115Z"
    },
    "papermill": {
     "duration": 0.454602,
     "end_time": "2021-11-09T15:53:14.181232",
     "exception": false,
     "start_time": "2021-11-09T15:53:13.726630",
     "status": "completed"
    },
    "tags": []
   },
   "outputs": [
    {
     "data": {
      "text/plain": [
       "<AxesSubplot:>"
      ]
     },
     "execution_count": 6,
     "metadata": {},
     "output_type": "execute_result"
    },
    {
     "data": {
      "image/png": "[encoded data removed]",
      "text/plain": [
       "<Figure size 432x288 with 2 Axes>"
      ]
     },
     "metadata": {
      "needs_background": "light"
     },
     "output_type": "display_data"
    }
   ],
   "source": [
    "#[\"AvgTempCelsius\",\"TotPop\",\"KoppenClimType\",\"DeathsPer100khabs\",\"DeathsPer1k70plusHabs\"]\n",
    "#corr = df['AvgTempCelsius','TotPop','KoppenClimType','DeathsPer100khabs','DeathsPer1k70plusHabs'].corr()\n",
    "corr =CorrDF.corr()\n",
    "sns.heatmap(corr, \n",
    "        xticklabels=['AvgTempCelsius','TotPop','KoppenClimType','DeathsPer100khabs','DeathsPer1k70plusHabs'],\n",
    "        yticklabels=['AvgTempCelsius','TotPop','KoppenClimType','DeathsPer100khabs','DeathsPer1k70plusHabs'])"
   ]
  },
  {
   "cell_type": "markdown",
   "id": "62f6d694",
   "metadata": {
    "papermill": {
     "duration": 0.017876,
     "end_time": "2021-11-09T15:53:14.217304",
     "exception": false,
     "start_time": "2021-11-09T15:53:14.199428",
     "status": "completed"
    },
    "tags": []
   },
   "source": [
    "At a first glance we encounter low correlations between the different columns in the dataframe. We will try different approachs to find if we have any reationship between variables put together in a decision tree."
   ]
  },
  {
   "cell_type": "code",
   "execution_count": 7,
   "id": "e43f6627",
   "metadata": {
    "execution": {
     "iopub.execute_input": "2021-11-09T15:53:14.258228Z",
     "iopub.status.busy": "2021-11-09T15:53:14.257558Z",
     "iopub.status.idle": "2021-11-09T15:53:14.473869Z",
     "shell.execute_reply": "2021-11-09T15:53:14.473294Z",
     "shell.execute_reply.started": "2021-11-09T15:52:04.118257Z"
    },
    "papermill": {
     "duration": 0.237801,
     "end_time": "2021-11-09T15:53:14.474043",
     "exception": false,
     "start_time": "2021-11-09T15:53:14.236242",
     "status": "completed"
    },
    "tags": []
   },
   "outputs": [
    {
     "data": {
      "text/plain": [
       "<AxesSubplot:xlabel='DeathsPer1k70plusHabs', ylabel='AvgTempCelsius'>"
      ]
     },
     "execution_count": 7,
     "metadata": {},
     "output_type": "execute_result"
    },
    {
     "data": {
      "image/png": "[encoded data removed]",
      "text/plain": [
       "<Figure size 432x288 with 1 Axes>"
      ]
     },
     "metadata": {
      "needs_background": "light"
     },
     "output_type": "display_data"
    }
   ],
   "source": [
    "sns.scatterplot(data=CorrDF, x=\"DeathsPer1k70plusHabs\", y=\"AvgTempCelsius\")"
   ]
  },
  {
   "cell_type": "markdown",
   "id": "09f174de",
   "metadata": {
    "papermill": {
     "duration": 0.019139,
     "end_time": "2021-11-09T15:53:14.513500",
     "exception": false,
     "start_time": "2021-11-09T15:53:14.494361",
     "status": "completed"
    },
    "tags": []
   },
   "source": [
    "As a first glance, it seems that there is no correlacion here. It's a cloud, with some outlayers. Let's see if we put some color for each country, we have any better understanding of the data."
   ]
  },
  {
   "cell_type": "code",
   "execution_count": 8,
   "id": "6d74e74d",
   "metadata": {
    "execution": {
     "iopub.execute_input": "2021-11-09T15:53:14.565718Z",
     "iopub.status.busy": "2021-11-09T15:53:14.564754Z",
     "iopub.status.idle": "2021-11-09T15:53:14.838663Z",
     "shell.execute_reply": "2021-11-09T15:53:14.838059Z",
     "shell.execute_reply.started": "2021-11-09T15:52:04.332363Z"
    },
    "papermill": {
     "duration": 0.305916,
     "end_time": "2021-11-09T15:53:14.838821",
     "exception": false,
     "start_time": "2021-11-09T15:53:14.532905",
     "status": "completed"
    },
    "tags": []
   },
   "outputs": [
    {
     "data": {
      "text/plain": [
       "<AxesSubplot:xlabel='DeathsPer1k70plusHabs', ylabel='AvgTempCelsius'>"
      ]
     },
     "execution_count": 8,
     "metadata": {},
     "output_type": "execute_result"
    },
    {
     "data": {
      "image/png": "[encoded data removed]",
      "text/plain": [
       "<Figure size 432x288 with 1 Axes>"
      ]
     },
     "metadata": {
      "needs_background": "light"
     },
     "output_type": "display_data"
    }
   ],
   "source": [
    "sns.scatterplot(data=CorrDF, x=\"DeathsPer1k70plusHabs\", y=\"AvgTempCelsius\",hue='Country')"
   ]
  },
  {
   "cell_type": "markdown",
   "id": "50aaab4d",
   "metadata": {
    "papermill": {
     "duration": 0.02095,
     "end_time": "2021-11-09T15:53:14.881512",
     "exception": false,
     "start_time": "2021-11-09T15:53:14.860562",
     "status": "completed"
    },
    "tags": []
   },
   "source": [
    "We have some hope here. It seems that each country have any sligth form of correlation with COVID19 elder deaths and Avg temperature. Let's see the overall deaths (Measured per 100k of habitants)"
   ]
  },
  {
   "cell_type": "code",
   "execution_count": 9,
   "id": "b64598d2",
   "metadata": {
    "execution": {
     "iopub.execute_input": "2021-11-09T15:53:14.931758Z",
     "iopub.status.busy": "2021-11-09T15:53:14.931084Z",
     "iopub.status.idle": "2021-11-09T15:53:15.213130Z",
     "shell.execute_reply": "2021-11-09T15:53:15.212439Z",
     "shell.execute_reply.started": "2021-11-09T15:52:04.635261Z"
    },
    "papermill": {
     "duration": 0.311114,
     "end_time": "2021-11-09T15:53:15.213283",
     "exception": false,
     "start_time": "2021-11-09T15:53:14.902169",
     "status": "completed"
    },
    "tags": []
   },
   "outputs": [
    {
     "data": {
      "text/plain": [
       "<AxesSubplot:xlabel='DeathsPer100khabs', ylabel='AvgTempCelsius'>"
      ]
     },
     "execution_count": 9,
     "metadata": {},
     "output_type": "execute_result"
    },
    {
     "data": {
      "image/png": "[encoded data removed]",
      "text/plain": [
       "<Figure size 432x288 with 1 Axes>"
      ]
     },
     "metadata": {
      "needs_background": "light"
     },
     "output_type": "display_data"
    }
   ],
   "source": [
    "sns.scatterplot(data=CorrDF, x=\"DeathsPer100khabs\", y=\"AvgTempCelsius\",hue='Country')"
   ]
  },
  {
   "cell_type": "markdown",
   "id": "7b7e3783",
   "metadata": {
    "papermill": {
     "duration": 0.020996,
     "end_time": "2021-11-09T15:53:15.255978",
     "exception": false,
     "start_time": "2021-11-09T15:53:15.234982",
     "status": "completed"
    },
    "tags": []
   },
   "source": [
    "In this case, we have no correlation at all. The dots are mixed up enough to avoid any analysis."
   ]
  },
  {
   "cell_type": "code",
   "execution_count": 10,
   "id": "17f5c79a",
   "metadata": {
    "execution": {
     "iopub.execute_input": "2021-11-09T15:53:15.301853Z",
     "iopub.status.busy": "2021-11-09T15:53:15.300879Z",
     "iopub.status.idle": "2021-11-09T15:53:15.753542Z",
     "shell.execute_reply": "2021-11-09T15:53:15.754142Z",
     "shell.execute_reply.started": "2021-11-09T15:52:04.940231Z"
    },
    "papermill": {
     "duration": 0.477278,
     "end_time": "2021-11-09T15:53:15.754325",
     "exception": false,
     "start_time": "2021-11-09T15:53:15.277047",
     "status": "completed"
    },
    "tags": []
   },
   "outputs": [
    {
     "data": {
      "text/plain": [
       "<AxesSubplot:xlabel='DeathsPer100khabs', ylabel='AvgTempCelsius'>"
      ]
     },
     "execution_count": 10,
     "metadata": {},
     "output_type": "execute_result"
    },
    {
     "data": {
      "image/png": "[encoded data removed]",
      "text/plain": [
       "<Figure size 432x288 with 1 Axes>"
      ]
     },
     "metadata": {
      "needs_background": "light"
     },
     "output_type": "display_data"
    }
   ],
   "source": [
    "sns.scatterplot(data=CorrDF, x=\"DeathsPer100khabs\", y=\"AvgTempCelsius\",hue='KoppenClimType')"
   ]
  },
  {
   "cell_type": "markdown",
   "id": "425073c8",
   "metadata": {
    "papermill": {
     "duration": 0.021708,
     "end_time": "2021-11-09T15:53:15.799445",
     "exception": false,
     "start_time": "2021-11-09T15:53:15.777737",
     "status": "completed"
    },
    "tags": []
   },
   "source": [
    "Now, we will preprocess the dataset for different ML aproaches, in order to predict data regarding deaths."
   ]
  },
  {
   "cell_type": "code",
   "execution_count": 11,
   "id": "924fc68e",
   "metadata": {
    "execution": {
     "iopub.execute_input": "2021-11-09T15:53:15.846600Z",
     "iopub.status.busy": "2021-11-09T15:53:15.845975Z",
     "iopub.status.idle": "2021-11-09T15:53:15.877508Z",
     "shell.execute_reply": "2021-11-09T15:53:15.877980Z",
     "shell.execute_reply.started": "2021-11-09T15:52:05.391277Z"
    },
    "papermill": {
     "duration": 0.056319,
     "end_time": "2021-11-09T15:53:15.878167",
     "exception": false,
     "start_time": "2021-11-09T15:53:15.821848",
     "status": "completed"
    },
    "tags": []
   },
   "outputs": [
    {
     "data": {
      "text/html": [
       "<div>\n",
       "<style scoped>\n",
       "    .dataframe tbody tr th:only-of-type {\n",
       "        vertical-align: middle;\n",
       "    }\n",
       "\n",
       "    .dataframe tbody tr th {\n",
       "        vertical-align: top;\n",
       "    }\n",
       "\n",
       "    .dataframe thead th {\n",
       "        text-align: right;\n",
       "    }\n",
       "</style>\n",
       "<table border=\"1\" class=\"dataframe\">\n",
       "  <thead>\n",
       "    <tr style=\"text-align: right;\">\n",
       "      <th></th>\n",
       "      <th>StName</th>\n",
       "      <th>AvgTempCelsius</th>\n",
       "      <th>TotPop</th>\n",
       "      <th>DeathsPer100khabs</th>\n",
       "      <th>DeathsPer1k70plusHabs</th>\n",
       "      <th>0</th>\n",
       "      <th>1</th>\n",
       "      <th>2</th>\n",
       "      <th>3</th>\n",
       "      <th>4</th>\n",
       "      <th>5</th>\n",
       "      <th>6</th>\n",
       "      <th>7</th>\n",
       "      <th>8</th>\n",
       "      <th>9</th>\n",
       "      <th>10</th>\n",
       "      <th>11</th>\n",
       "      <th>12</th>\n",
       "      <th>13</th>\n",
       "      <th>14</th>\n",
       "    </tr>\n",
       "  </thead>\n",
       "  <tbody>\n",
       "    <tr>\n",
       "      <th>0</th>\n",
       "      <td>4.0</td>\n",
       "      <td>17.0</td>\n",
       "      <td>17541141</td>\n",
       "      <td>375.66</td>\n",
       "      <td>31.9</td>\n",
       "      <td>0.0</td>\n",
       "      <td>0.0</td>\n",
       "      <td>0.0</td>\n",
       "      <td>0.0</td>\n",
       "      <td>1.0</td>\n",
       "      <td>0.0</td>\n",
       "      <td>0.0</td>\n",
       "      <td>0.0</td>\n",
       "      <td>0.0</td>\n",
       "      <td>0.0</td>\n",
       "      <td>0.0</td>\n",
       "      <td>0.0</td>\n",
       "      <td>0.0</td>\n",
       "      <td>1.0</td>\n",
       "      <td>0.0</td>\n",
       "    </tr>\n",
       "    <tr>\n",
       "      <th>1</th>\n",
       "      <td>5.0</td>\n",
       "      <td>17.0</td>\n",
       "      <td>3075646</td>\n",
       "      <td>463.67</td>\n",
       "      <td>27.9</td>\n",
       "      <td>0.0</td>\n",
       "      <td>0.0</td>\n",
       "      <td>0.0</td>\n",
       "      <td>0.0</td>\n",
       "      <td>1.0</td>\n",
       "      <td>0.0</td>\n",
       "      <td>0.0</td>\n",
       "      <td>0.0</td>\n",
       "      <td>0.0</td>\n",
       "      <td>0.0</td>\n",
       "      <td>0.0</td>\n",
       "      <td>0.0</td>\n",
       "      <td>0.0</td>\n",
       "      <td>1.0</td>\n",
       "      <td>0.0</td>\n",
       "    </tr>\n",
       "    <tr>\n",
       "      <th>2</th>\n",
       "      <td>7.0</td>\n",
       "      <td>16.0</td>\n",
       "      <td>415438</td>\n",
       "      <td>144.19</td>\n",
       "      <td>12.6</td>\n",
       "      <td>0.0</td>\n",
       "      <td>0.0</td>\n",
       "      <td>0.0</td>\n",
       "      <td>1.0</td>\n",
       "      <td>0.0</td>\n",
       "      <td>0.0</td>\n",
       "      <td>0.0</td>\n",
       "      <td>0.0</td>\n",
       "      <td>0.0</td>\n",
       "      <td>0.0</td>\n",
       "      <td>0.0</td>\n",
       "      <td>0.0</td>\n",
       "      <td>0.0</td>\n",
       "      <td>1.0</td>\n",
       "      <td>0.0</td>\n",
       "    </tr>\n",
       "    <tr>\n",
       "      <th>3</th>\n",
       "      <td>8.0</td>\n",
       "      <td>21.5</td>\n",
       "      <td>1204541</td>\n",
       "      <td>228.72</td>\n",
       "      <td>20.5</td>\n",
       "      <td>0.0</td>\n",
       "      <td>0.0</td>\n",
       "      <td>0.0</td>\n",
       "      <td>0.0</td>\n",
       "      <td>1.0</td>\n",
       "      <td>0.0</td>\n",
       "      <td>0.0</td>\n",
       "      <td>0.0</td>\n",
       "      <td>0.0</td>\n",
       "      <td>0.0</td>\n",
       "      <td>0.0</td>\n",
       "      <td>0.0</td>\n",
       "      <td>0.0</td>\n",
       "      <td>1.0</td>\n",
       "      <td>0.0</td>\n",
       "    </tr>\n",
       "    <tr>\n",
       "      <th>4</th>\n",
       "      <td>9.0</td>\n",
       "      <td>12.8</td>\n",
       "      <td>618994</td>\n",
       "      <td>257.35</td>\n",
       "      <td>35.3</td>\n",
       "      <td>0.0</td>\n",
       "      <td>1.0</td>\n",
       "      <td>0.0</td>\n",
       "      <td>0.0</td>\n",
       "      <td>0.0</td>\n",
       "      <td>0.0</td>\n",
       "      <td>0.0</td>\n",
       "      <td>0.0</td>\n",
       "      <td>0.0</td>\n",
       "      <td>0.0</td>\n",
       "      <td>0.0</td>\n",
       "      <td>0.0</td>\n",
       "      <td>0.0</td>\n",
       "      <td>1.0</td>\n",
       "      <td>0.0</td>\n",
       "    </tr>\n",
       "  </tbody>\n",
       "</table>\n",
       "</div>"
      ],
      "text/plain": [
       "   StName  AvgTempCelsius    TotPop  DeathsPer100khabs  DeathsPer1k70plusHabs  \\\n",
       "0     4.0            17.0  17541141             375.66                   31.9   \n",
       "1     5.0            17.0   3075646             463.67                   27.9   \n",
       "2     7.0            16.0    415438             144.19                   12.6   \n",
       "3     8.0            21.5   1204541             228.72                   20.5   \n",
       "4     9.0            12.8    618994             257.35                   35.3   \n",
       "\n",
       "     0    1    2    3    4    5    6    7    8    9   10   11   12   13   14  \n",
       "0  0.0  0.0  0.0  0.0  1.0  0.0  0.0  0.0  0.0  0.0  0.0  0.0  0.0  1.0  0.0  \n",
       "1  0.0  0.0  0.0  0.0  1.0  0.0  0.0  0.0  0.0  0.0  0.0  0.0  0.0  1.0  0.0  \n",
       "2  0.0  0.0  0.0  1.0  0.0  0.0  0.0  0.0  0.0  0.0  0.0  0.0  0.0  1.0  0.0  \n",
       "3  0.0  0.0  0.0  0.0  1.0  0.0  0.0  0.0  0.0  0.0  0.0  0.0  0.0  1.0  0.0  \n",
       "4  0.0  1.0  0.0  0.0  0.0  0.0  0.0  0.0  0.0  0.0  0.0  0.0  0.0  1.0  0.0  "
      ]
     },
     "execution_count": 11,
     "metadata": {},
     "output_type": "execute_result"
    }
   ],
   "source": [
    "#We will try different approaches to encode this column, and the country and State column#s\n",
    "#First we will make an ordinal encode.\n",
    "\n",
    "Ordinal_Columns= ['StName']\n",
    "OH_Columns= ['KoppenClimType','Country']\n",
    "\n",
    "\n",
    "df[Ordinal_Columns] = pd.DataFrame(ORD.fit_transform(df[Ordinal_Columns]))\n",
    "df.columns = Cols_names\n",
    "\n",
    "OH_NCols = pd.DataFrame(OHC.fit_transform(df[OH_Columns]))\n",
    "OH_NCols.index = df.index\n",
    "df = df.drop(OH_Columns, axis=1)\n",
    "\n",
    "\n",
    "FinalDataSet = pd.concat([df,OH_NCols], axis=1)\n",
    "\n",
    "\n",
    "FinalDataSet.head()\n"
   ]
  },
  {
   "cell_type": "code",
   "execution_count": 12,
   "id": "25c3585a",
   "metadata": {
    "execution": {
     "iopub.execute_input": "2021-11-09T15:53:15.926731Z",
     "iopub.status.busy": "2021-11-09T15:53:15.926041Z",
     "iopub.status.idle": "2021-11-09T15:53:15.986232Z",
     "shell.execute_reply": "2021-11-09T15:53:15.985586Z",
     "shell.execute_reply.started": "2021-11-09T15:52:05.429746Z"
    },
    "papermill": {
     "duration": 0.085852,
     "end_time": "2021-11-09T15:53:15.986383",
     "exception": false,
     "start_time": "2021-11-09T15:53:15.900531",
     "status": "completed"
    },
    "tags": []
   },
   "outputs": [],
   "source": [
    "from sklearn.model_selection import train_test_split\n",
    "#In this case, i will spare 2 variables for further prediction.\n",
    "#They are bonded, so putting one of them as predictor, will result in a poor model.\n",
    "\n",
    "y1=FinalDataSet.DeathsPer1k70plusHabs\n",
    "y2=FinalDataSet.DeathsPer100khabs\n",
    "FinalDataSet.drop('DeathsPer1k70plusHabs',axis=1,inplace=True)\n",
    "FinalDataSet.drop('DeathsPer100khabs',axis=1,inplace=True)\n",
    "\n",
    "X_train, X_valid, y_train, y_valid = train_test_split(FinalDataSet, y1,\n",
    "                                                      train_size=0.9, test_size=0.1,\n",
    "                                                      random_state=0)"
   ]
  },
  {
   "cell_type": "code",
   "execution_count": 13,
   "id": "b0153556",
   "metadata": {
    "execution": {
     "iopub.execute_input": "2021-11-09T15:53:16.038155Z",
     "iopub.status.busy": "2021-11-09T15:53:16.037454Z",
     "iopub.status.idle": "2021-11-09T15:53:16.222115Z",
     "shell.execute_reply": "2021-11-09T15:53:16.222601Z",
     "shell.execute_reply.started": "2021-11-09T15:52:05.480430Z"
    },
    "papermill": {
     "duration": 0.213764,
     "end_time": "2021-11-09T15:53:16.222789",
     "exception": false,
     "start_time": "2021-11-09T15:53:16.009025",
     "status": "completed"
    },
    "tags": []
   },
   "outputs": [],
   "source": [
    "#In order to evaluate differents approaches, i will create a function to score each one of the predictions,\n",
    "#using MAE (Mean Absolute Error)\n",
    "from sklearn.ensemble import RandomForestRegressor\n",
    "from sklearn.metrics import mean_absolute_error\n",
    "\n",
    "def score_datasetRF(X_train, X_valid, y_train, y_valid):\n",
    "    model = RandomForestRegressor(n_estimators=100, random_state=0)\n",
    "    model.fit(X_train, y_train)\n",
    "    preds = model.predict(X_valid)\n",
    "    return mean_absolute_error(y_valid, preds)"
   ]
  },
  {
   "cell_type": "code",
   "execution_count": 14,
   "id": "400c08fa",
   "metadata": {
    "execution": {
     "iopub.execute_input": "2021-11-09T15:53:16.292673Z",
     "iopub.status.busy": "2021-11-09T15:53:16.271891Z",
     "iopub.status.idle": "2021-11-09T15:53:16.419204Z",
     "shell.execute_reply": "2021-11-09T15:53:16.419892Z",
     "shell.execute_reply.started": "2021-11-09T15:52:05.637372Z"
    },
    "papermill": {
     "duration": 0.173806,
     "end_time": "2021-11-09T15:53:16.420163",
     "exception": false,
     "start_time": "2021-11-09T15:53:16.246357",
     "status": "completed"
    },
    "tags": []
   },
   "outputs": [
    {
     "name": "stdout",
     "output_type": "stream",
     "text": [
      "MAE of predictions regarding elder deaths:\n",
      "22.31888750000001\n"
     ]
    }
   ],
   "source": [
    "print('MAE of predictions regarding elder deaths:')\n",
    "print(score_datasetRF(X_train, X_valid, y_train, y_valid))"
   ]
  },
  {
   "cell_type": "code",
   "execution_count": 15,
   "id": "c1256171",
   "metadata": {
    "execution": {
     "iopub.execute_input": "2021-11-09T15:53:16.469866Z",
     "iopub.status.busy": "2021-11-09T15:53:16.468893Z",
     "iopub.status.idle": "2021-11-09T15:53:16.475010Z",
     "shell.execute_reply": "2021-11-09T15:53:16.475641Z",
     "shell.execute_reply.started": "2021-11-09T15:52:05.784216Z"
    },
    "papermill": {
     "duration": 0.032639,
     "end_time": "2021-11-09T15:53:16.475825",
     "exception": false,
     "start_time": "2021-11-09T15:53:16.443186",
     "status": "completed"
    },
    "tags": []
   },
   "outputs": [],
   "source": [
    "X_train2, X_valid2, y_train2, y_valid2 = train_test_split(FinalDataSet, y2,\n",
    "                                                      train_size=0.9, test_size=0.1,\n",
    "                                                      random_state=0)"
   ]
  },
  {
   "cell_type": "code",
   "execution_count": 16,
   "id": "86d17d0e",
   "metadata": {
    "execution": {
     "iopub.execute_input": "2021-11-09T15:53:16.526067Z",
     "iopub.status.busy": "2021-11-09T15:53:16.525040Z",
     "iopub.status.idle": "2021-11-09T15:53:16.668782Z",
     "shell.execute_reply": "2021-11-09T15:53:16.669527Z",
     "shell.execute_reply.started": "2021-11-09T15:52:05.793369Z"
    },
    "papermill": {
     "duration": 0.170937,
     "end_time": "2021-11-09T15:53:16.669762",
     "exception": false,
     "start_time": "2021-11-09T15:53:16.498825",
     "status": "completed"
    },
    "tags": []
   },
   "outputs": [
    {
     "name": "stdout",
     "output_type": "stream",
     "text": [
      "MAE of predictions regarding ovearll deaths:\n",
      "71.59209999999999\n"
     ]
    }
   ],
   "source": [
    "print('MAE of predictions regarding ovearll deaths:')\n",
    "print(score_datasetRF(X_train2, X_valid2, y_train2, y_valid2))"
   ]
  },
  {
   "cell_type": "markdown",
   "id": "647576c1",
   "metadata": {
    "papermill": {
     "duration": 0.022615,
     "end_time": "2021-11-09T15:53:16.716229",
     "exception": false,
     "start_time": "2021-11-09T15:53:16.693614",
     "status": "completed"
    },
    "tags": []
   },
   "source": [
    "The MAE of the prediction of the first variable is 22.3, whereas the Standard deviation we saw in the first step was ~35.\n",
    "\n",
    "The MAE of second variable prediction is 71.6, and the standard deviation in the dataset for this variable is 77.2. Not a good precision of the prediction."
   ]
  },
  {
   "cell_type": "markdown",
   "id": "8c8570be",
   "metadata": {
    "papermill": {
     "duration": 0.022428,
     "end_time": "2021-11-09T15:53:16.761715",
     "exception": false,
     "start_time": "2021-11-09T15:53:16.739287",
     "status": "completed"
    },
    "tags": []
   },
   "source": [
    "Let's visualize the errors, and their shape."
   ]
  },
  {
   "cell_type": "code",
   "execution_count": 17,
   "id": "1a4f3775",
   "metadata": {
    "execution": {
     "iopub.execute_input": "2021-11-09T15:53:16.817340Z",
     "iopub.status.busy": "2021-11-09T15:53:16.816354Z",
     "iopub.status.idle": "2021-11-09T15:53:17.142798Z",
     "shell.execute_reply": "2021-11-09T15:53:17.144067Z",
     "shell.execute_reply.started": "2021-11-09T15:52:05.948127Z"
    },
    "papermill": {
     "duration": 0.358898,
     "end_time": "2021-11-09T15:53:17.144266",
     "exception": false,
     "start_time": "2021-11-09T15:53:16.785368",
     "status": "completed"
    },
    "tags": []
   },
   "outputs": [
    {
     "data": {
      "image/png": "[encoded data removed]",
      "text/plain": [
       "<Figure size 432x288 with 1 Axes>"
      ]
     },
     "metadata": {
      "needs_background": "light"
     },
     "output_type": "display_data"
    }
   ],
   "source": [
    "\n",
    "\n",
    "model = RandomForestRegressor(n_estimators=100, random_state=0)\n",
    "model.fit(X_train, y_train)\n",
    "preds = model.predict(X_valid)\n",
    "\n",
    "_, ax = plt.subplots()\n",
    "\n",
    "ax.scatter(x = range(0, y_valid.size), y=y_valid, c = 'blue', label = 'Actual', alpha = 0.3)\n",
    "ax.scatter(x = range(0, preds.size), y=preds, c = 'red', label = 'Predicted', alpha = 0.3)\n",
    "\n",
    "plt.title('Actual and predicted values')\n",
    "plt.xlabel('States')\n",
    "plt.ylabel('Deaths per 1k 70+')\n",
    "plt.legend()\n",
    "plt.show()\n"
   ]
  },
  {
   "cell_type": "markdown",
   "id": "804c05b6",
   "metadata": {
    "papermill": {
     "duration": 0.023089,
     "end_time": "2021-11-09T15:53:17.193483",
     "exception": false,
     "start_time": "2021-11-09T15:53:17.170394",
     "status": "completed"
    },
    "tags": []
   },
   "source": []
  }
 ],
 "metadata": {
  "kernelspec": {
   "display_name": "Python 3",
   "language": "python",
   "name": "python3"
  },
  "language_info": {
   "codemirror_mode": {
    "name": "ipython",
    "version": 3
   },
   "file_extension": ".py",
   "mimetype": "text/x-python",
   "name": "python",
   "nbconvert_exporter": "python",
   "pygments_lexer": "ipython3",
   "version": "3.7.10"
  },
  "papermill": {
   "default_parameters": {},
   "duration": 13.830267,
   "end_time": "2021-11-09T15:53:17.927064",
   "environment_variables": {},
   "exception": null,
   "input_path": "__notebook__.ipynb",
   "output_path": "__notebook__.ipynb",
   "parameters": {},
   "start_time": "2021-11-09T15:53:04.096797",
   "version": "2.3.3"
  }
 },
 "nbformat": 4,
 "nbformat_minor": 5
}
